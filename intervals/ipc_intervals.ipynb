{
 "cells": [
  {
   "cell_type": "code",
   "execution_count": 15,
   "metadata": {},
   "outputs": [],
   "source": [
    "import pandas as pd"
   ]
  },
  {
   "cell_type": "code",
   "execution_count": 16,
   "metadata": {},
   "outputs": [
    {
     "name": "stderr",
     "output_type": "stream",
     "text": [
      "/home/sgeorgiou/.local/lib/python2.7/site-packages/ipykernel_launcher.py:1: FutureWarning: read_table is deprecated, use read_csv instead, passing sep='\\t'.\n",
      "  \"\"\"Entry point for launching an IPython kernel.\n"
     ]
    },
    {
     "data": {
      "text/html": [
       "<div>\n",
       "<style scoped>\n",
       "    .dataframe tbody tr th:only-of-type {\n",
       "        vertical-align: middle;\n",
       "    }\n",
       "\n",
       "    .dataframe tbody tr th {\n",
       "        vertical-align: top;\n",
       "    }\n",
       "\n",
       "    .dataframe thead th {\n",
       "        text-align: right;\n",
       "    }\n",
       "</style>\n",
       "<table border=\"1\" class=\"dataframe\">\n",
       "  <thead>\n",
       "    <tr style=\"text-align: right;\">\n",
       "      <th></th>\n",
       "      <th>Client gRPC</th>\n",
       "      <th>Client RPC</th>\n",
       "      <th>Client Rest</th>\n",
       "      <th>Server gRPC</th>\n",
       "      <th>Server RPC</th>\n",
       "      <th>Server Rest</th>\n",
       "    </tr>\n",
       "  </thead>\n",
       "  <tbody>\n",
       "    <tr>\n",
       "      <th>0</th>\n",
       "      <td>65.60</td>\n",
       "      <td>399.90</td>\n",
       "      <td>1206.70</td>\n",
       "      <td>105.25</td>\n",
       "      <td>364.00</td>\n",
       "      <td>789.45</td>\n",
       "    </tr>\n",
       "    <tr>\n",
       "      <th>1</th>\n",
       "      <td>99.05</td>\n",
       "      <td>84.85</td>\n",
       "      <td>201.45</td>\n",
       "      <td>105.90</td>\n",
       "      <td>70.45</td>\n",
       "      <td>79.65</td>\n",
       "    </tr>\n",
       "    <tr>\n",
       "      <th>2</th>\n",
       "      <td>451.50</td>\n",
       "      <td>22911.50</td>\n",
       "      <td>687.15</td>\n",
       "      <td>364.45</td>\n",
       "      <td>20402.50</td>\n",
       "      <td>617.85</td>\n",
       "    </tr>\n",
       "    <tr>\n",
       "      <th>3</th>\n",
       "      <td>28.20</td>\n",
       "      <td>36.25</td>\n",
       "      <td>88.15</td>\n",
       "      <td>27.00</td>\n",
       "      <td>32.35</td>\n",
       "      <td>31.45</td>\n",
       "    </tr>\n",
       "    <tr>\n",
       "      <th>4</th>\n",
       "      <td>11543.90</td>\n",
       "      <td>930.60</td>\n",
       "      <td>7003.00</td>\n",
       "      <td>1291.40</td>\n",
       "      <td>1214.65</td>\n",
       "      <td>20574.50</td>\n",
       "    </tr>\n",
       "  </tbody>\n",
       "</table>\n",
       "</div>"
      ],
      "text/plain": [
       "   Client gRPC  Client RPC  Client Rest  Server gRPC  Server RPC  Server Rest\n",
       "0        65.60      399.90      1206.70       105.25      364.00       789.45\n",
       "1        99.05       84.85       201.45       105.90       70.45        79.65\n",
       "2       451.50    22911.50       687.15       364.45    20402.50       617.85\n",
       "3        28.20       36.25        88.15        27.00       32.35        31.45\n",
       "4     11543.90      930.60      7003.00      1291.40     1214.65     20574.50"
      ]
     },
     "execution_count": 16,
     "metadata": {},
     "output_type": "execute_result"
    }
   ],
   "source": [
    "energy_consumption = pd.read_table(\"intel_energy.txt\", delim_whitespace=True, header=0, na_values=-1)\n",
    "energy_consumption.head()"
   ]
  },
  {
   "cell_type": "code",
   "execution_count": 17,
   "metadata": {},
   "outputs": [
    {
     "data": {
      "text/html": [
       "<div>\n",
       "<style scoped>\n",
       "    .dataframe tbody tr th:only-of-type {\n",
       "        vertical-align: middle;\n",
       "    }\n",
       "\n",
       "    .dataframe tbody tr th {\n",
       "        vertical-align: top;\n",
       "    }\n",
       "\n",
       "    .dataframe thead th {\n",
       "        text-align: right;\n",
       "    }\n",
       "</style>\n",
       "<table border=\"1\" class=\"dataframe\">\n",
       "  <thead>\n",
       "    <tr style=\"text-align: right;\">\n",
       "      <th></th>\n",
       "      <th>Client gRPC</th>\n",
       "      <th>Client RPC</th>\n",
       "      <th>Client Rest</th>\n",
       "      <th>Server gRPC</th>\n",
       "      <th>Server RPC</th>\n",
       "      <th>Server Rest</th>\n",
       "    </tr>\n",
       "  </thead>\n",
       "  <tbody>\n",
       "    <tr>\n",
       "      <th>count</th>\n",
       "      <td>7.000000</td>\n",
       "      <td>7.000000</td>\n",
       "      <td>7.000000</td>\n",
       "      <td>7.000000</td>\n",
       "      <td>7.000000</td>\n",
       "      <td>7.000000</td>\n",
       "    </tr>\n",
       "    <tr>\n",
       "      <th>mean</th>\n",
       "      <td>1847.771429</td>\n",
       "      <td>3583.157143</td>\n",
       "      <td>1687.407143</td>\n",
       "      <td>363.478571</td>\n",
       "      <td>3277.807143</td>\n",
       "      <td>3321.764286</td>\n",
       "    </tr>\n",
       "    <tr>\n",
       "      <th>std</th>\n",
       "      <td>4281.124309</td>\n",
       "      <td>8527.991489</td>\n",
       "      <td>2430.590803</td>\n",
       "      <td>456.282726</td>\n",
       "      <td>7561.437572</td>\n",
       "      <td>7614.060821</td>\n",
       "    </tr>\n",
       "    <tr>\n",
       "      <th>min</th>\n",
       "      <td>28.200000</td>\n",
       "      <td>36.250000</td>\n",
       "      <td>88.150000</td>\n",
       "      <td>27.000000</td>\n",
       "      <td>32.350000</td>\n",
       "      <td>31.450000</td>\n",
       "    </tr>\n",
       "    <tr>\n",
       "      <th>25%</th>\n",
       "      <td>82.325000</td>\n",
       "      <td>202.250000</td>\n",
       "      <td>419.250000</td>\n",
       "      <td>83.425000</td>\n",
       "      <td>208.750000</td>\n",
       "      <td>224.900000</td>\n",
       "    </tr>\n",
       "    <tr>\n",
       "      <th>50%</th>\n",
       "      <td>139.400000</td>\n",
       "      <td>399.350000</td>\n",
       "      <td>687.150000</td>\n",
       "      <td>105.900000</td>\n",
       "      <td>364.000000</td>\n",
       "      <td>617.850000</td>\n",
       "    </tr>\n",
       "    <tr>\n",
       "      <th>75%</th>\n",
       "      <td>529.125000</td>\n",
       "      <td>665.250000</td>\n",
       "      <td>1597.525000</td>\n",
       "      <td>476.600000</td>\n",
       "      <td>864.150000</td>\n",
       "      <td>789.375000</td>\n",
       "    </tr>\n",
       "    <tr>\n",
       "      <th>max</th>\n",
       "      <td>11543.900000</td>\n",
       "      <td>22911.500000</td>\n",
       "      <td>7003.000000</td>\n",
       "      <td>1291.400000</td>\n",
       "      <td>20402.500000</td>\n",
       "      <td>20574.500000</td>\n",
       "    </tr>\n",
       "  </tbody>\n",
       "</table>\n",
       "</div>"
      ],
      "text/plain": [
       "        Client gRPC    Client RPC  Client Rest  Server gRPC    Server RPC  \\\n",
       "count      7.000000      7.000000     7.000000     7.000000      7.000000   \n",
       "mean    1847.771429   3583.157143  1687.407143   363.478571   3277.807143   \n",
       "std     4281.124309   8527.991489  2430.590803   456.282726   7561.437572   \n",
       "min       28.200000     36.250000    88.150000    27.000000     32.350000   \n",
       "25%       82.325000    202.250000   419.250000    83.425000    208.750000   \n",
       "50%      139.400000    399.350000   687.150000   105.900000    364.000000   \n",
       "75%      529.125000    665.250000  1597.525000   476.600000    864.150000   \n",
       "max    11543.900000  22911.500000  7003.000000  1291.400000  20402.500000   \n",
       "\n",
       "        Server Rest  \n",
       "count      7.000000  \n",
       "mean    3321.764286  \n",
       "std     7614.060821  \n",
       "min       31.450000  \n",
       "25%      224.900000  \n",
       "50%      617.850000  \n",
       "75%      789.375000  \n",
       "max    20574.500000  "
      ]
     },
     "execution_count": 17,
     "metadata": {},
     "output_type": "execute_result"
    }
   ],
   "source": [
    "energy_consumption.describe()"
   ]
  },
  {
   "cell_type": "raw",
   "metadata": {},
   "source": []
  },
  {
   "cell_type": "code",
   "execution_count": 18,
   "metadata": {},
   "outputs": [
    {
     "data": {
      "text/html": [
       "<div>\n",
       "<style scoped>\n",
       "    .dataframe tbody tr th:only-of-type {\n",
       "        vertical-align: middle;\n",
       "    }\n",
       "\n",
       "    .dataframe tbody tr th {\n",
       "        vertical-align: top;\n",
       "    }\n",
       "\n",
       "    .dataframe thead th {\n",
       "        text-align: right;\n",
       "    }\n",
       "</style>\n",
       "<table border=\"1\" class=\"dataframe\">\n",
       "  <thead>\n",
       "    <tr style=\"text-align: right;\">\n",
       "      <th></th>\n",
       "      <th>Client gRPC</th>\n",
       "      <th>Client RPC</th>\n",
       "      <th>Client Rest</th>\n",
       "      <th>Server gRPC</th>\n",
       "      <th>Server RPC</th>\n",
       "      <th>Server Rest</th>\n",
       "    </tr>\n",
       "  </thead>\n",
       "  <tbody>\n",
       "    <tr>\n",
       "      <th>0.05</th>\n",
       "      <td>39.420</td>\n",
       "      <td>50.83</td>\n",
       "      <td>122.140</td>\n",
       "      <td>37.380</td>\n",
       "      <td>43.780</td>\n",
       "      <td>45.910</td>\n",
       "    </tr>\n",
       "    <tr>\n",
       "      <th>0.95</th>\n",
       "      <td>8262.755</td>\n",
       "      <td>16317.23</td>\n",
       "      <td>5498.605</td>\n",
       "      <td>1080.605</td>\n",
       "      <td>14646.145</td>\n",
       "      <td>14638.985</td>\n",
       "    </tr>\n",
       "  </tbody>\n",
       "</table>\n",
       "</div>"
      ],
      "text/plain": [
       "      Client gRPC  Client RPC  Client Rest  Server gRPC  Server RPC  \\\n",
       "0.05       39.420       50.83      122.140       37.380      43.780   \n",
       "0.95     8262.755    16317.23     5498.605     1080.605   14646.145   \n",
       "\n",
       "      Server Rest  \n",
       "0.05       45.910  \n",
       "0.95    14638.985  "
      ]
     },
     "execution_count": 18,
     "metadata": {},
     "output_type": "execute_result"
    }
   ],
   "source": [
    "energy_consumption.quantile([0.05, 0.95])"
   ]
  },
  {
   "cell_type": "code",
   "execution_count": 19,
   "metadata": {},
   "outputs": [],
   "source": [
    "import numpy as np\n",
    "import scipy as sp\n",
    "import scipy.stats\n",
    "\n",
    "def mean_confidence_interval(data, confidence=0.95):\n",
    "    a = 1.0*np.array(data)\n",
    "    n = len(a)\n",
    "    m, se = np.mean(a), scipy.stats.sem(a)\n",
    "    h = se * sp.stats.t._ppf((1+confidence)/2., n-1)\n",
    "    return m, h, m-h, m+h"
   ]
  },
  {
   "cell_type": "code",
   "execution_count": 20,
   "metadata": {},
   "outputs": [
    {
     "data": {
      "text/plain": [
       "Client gRPC    (1847.7714285714285, 3959.379611835017, -2111....\n",
       "Client RPC     (3583.157142857143, 7887.076662332869, -4303.9...\n",
       "Client Rest    (1687.4071428571428, 2247.9215676517533, -560....\n",
       "Server gRPC    (363.4785714285714, 421.99113843005154, -58.51...\n",
       "Server RPC     (3277.807142857143, 6993.163383223029, -3715.3...\n",
       "Server Rest    (3321.764285714286, 7041.831771047912, -3720.0...\n",
       "dtype: object"
      ]
     },
     "execution_count": 20,
     "metadata": {},
     "output_type": "execute_result"
    }
   ],
   "source": [
    "energy_consumption.apply(lambda x: mean_confidence_interval(x.dropna()), axis=0)"
   ]
  },
  {
   "cell_type": "code",
   "execution_count": 21,
   "metadata": {},
   "outputs": [],
   "source": [
    "import seaborn as sns\n",
    "import matplotlib.pyplot as plt"
   ]
  },
  {
   "cell_type": "code",
   "execution_count": 22,
   "metadata": {},
   "outputs": [
    {
     "data": {
      "text/html": [
       "<div>\n",
       "<style scoped>\n",
       "    .dataframe tbody tr th:only-of-type {\n",
       "        vertical-align: middle;\n",
       "    }\n",
       "\n",
       "    .dataframe tbody tr th {\n",
       "        vertical-align: top;\n",
       "    }\n",
       "\n",
       "    .dataframe thead th {\n",
       "        text-align: right;\n",
       "    }\n",
       "</style>\n",
       "<table border=\"1\" class=\"dataframe\">\n",
       "  <thead>\n",
       "    <tr style=\"text-align: right;\">\n",
       "      <th></th>\n",
       "      <th>Protocols</th>\n",
       "      <th>Energy consumption (in Joules)</th>\n",
       "    </tr>\n",
       "  </thead>\n",
       "  <tbody>\n",
       "    <tr>\n",
       "      <th>0</th>\n",
       "      <td>Client gRPC</td>\n",
       "      <td>65.60</td>\n",
       "    </tr>\n",
       "    <tr>\n",
       "      <th>1</th>\n",
       "      <td>Client gRPC</td>\n",
       "      <td>99.05</td>\n",
       "    </tr>\n",
       "    <tr>\n",
       "      <th>2</th>\n",
       "      <td>Client gRPC</td>\n",
       "      <td>451.50</td>\n",
       "    </tr>\n",
       "    <tr>\n",
       "      <th>3</th>\n",
       "      <td>Client gRPC</td>\n",
       "      <td>28.20</td>\n",
       "    </tr>\n",
       "    <tr>\n",
       "      <th>4</th>\n",
       "      <td>Client gRPC</td>\n",
       "      <td>11543.90</td>\n",
       "    </tr>\n",
       "  </tbody>\n",
       "</table>\n",
       "</div>"
      ],
      "text/plain": [
       "     Protocols  Energy consumption (in Joules)\n",
       "0  Client gRPC                           65.60\n",
       "1  Client gRPC                           99.05\n",
       "2  Client gRPC                          451.50\n",
       "3  Client gRPC                           28.20\n",
       "4  Client gRPC                        11543.90"
      ]
     },
     "execution_count": 22,
     "metadata": {},
     "output_type": "execute_result"
    }
   ],
   "source": [
    "melted_df = energy_consumption.melt(var_name ='Protocols', value_name ='Energy consumption (in Joules)')\n",
    "melted_df.head()"
   ]
  },
  {
   "cell_type": "code",
   "execution_count": 23,
   "metadata": {},
   "outputs": [
    {
     "data": {
      "text/html": [
       "<div>\n",
       "<style scoped>\n",
       "    .dataframe tbody tr th:only-of-type {\n",
       "        vertical-align: middle;\n",
       "    }\n",
       "\n",
       "    .dataframe tbody tr th {\n",
       "        vertical-align: top;\n",
       "    }\n",
       "\n",
       "    .dataframe thead th {\n",
       "        text-align: right;\n",
       "    }\n",
       "</style>\n",
       "<table border=\"1\" class=\"dataframe\">\n",
       "  <thead>\n",
       "    <tr style=\"text-align: right;\">\n",
       "      <th></th>\n",
       "      <th>Protocols</th>\n",
       "      <th>Energy consumption (in Joules)</th>\n",
       "    </tr>\n",
       "  </thead>\n",
       "  <tbody>\n",
       "    <tr>\n",
       "      <th>0</th>\n",
       "      <td>Client gRPC</td>\n",
       "      <td>65.60</td>\n",
       "    </tr>\n",
       "    <tr>\n",
       "      <th>1</th>\n",
       "      <td>Client gRPC</td>\n",
       "      <td>99.05</td>\n",
       "    </tr>\n",
       "    <tr>\n",
       "      <th>2</th>\n",
       "      <td>Client gRPC</td>\n",
       "      <td>451.50</td>\n",
       "    </tr>\n",
       "    <tr>\n",
       "      <th>3</th>\n",
       "      <td>Client gRPC</td>\n",
       "      <td>28.20</td>\n",
       "    </tr>\n",
       "    <tr>\n",
       "      <th>4</th>\n",
       "      <td>Client gRPC</td>\n",
       "      <td>11543.90</td>\n",
       "    </tr>\n",
       "  </tbody>\n",
       "</table>\n",
       "</div>"
      ],
      "text/plain": [
       "     Protocols  Energy consumption (in Joules)\n",
       "0  Client gRPC                           65.60\n",
       "1  Client gRPC                           99.05\n",
       "2  Client gRPC                          451.50\n",
       "3  Client gRPC                           28.20\n",
       "4  Client gRPC                        11543.90"
      ]
     },
     "execution_count": 23,
     "metadata": {},
     "output_type": "execute_result"
    }
   ],
   "source": [
    "melted_df.rename({1: 'protocols'}, axis='columns', inplace=True)\n",
    "melted_df.head()"
   ]
  },
  {
   "cell_type": "code",
   "execution_count": 25,
   "metadata": {},
   "outputs": [
    {
     "data": {
      "image/png": "[encoded data removed]",
      "text/plain": [
       "<Figure size 1008x864 with 1 Axes>"
      ]
     },
     "metadata": {},
     "output_type": "display_data"
    }
   ],
   "source": [
    "fig, ax = plt.subplots()\n",
    "\n",
    "sns.set(font_scale=1.5)\n",
    "fig.set_size_inches(14, 12)\n",
    "g = sns.boxplot(x=\"Protocols\", y=\"Energy consumption (in Joules)\", data=melted_df, showfliers=True)\n",
    "ticklabels = g.get_xticklabels()\n",
    "x_lim = g.get_xlim()\n",
    "\n",
    "g.set_xlim(x_lim[0] - 0.5, x_lim[1] + 0.5)\n",
    "_ = g.set_xticklabels(ticklabels, rotation=90)\n",
    "ax.set_xlabel('')\n",
    "ax.set_ylabel('Energy consumption (in Joules)',fontsize=28)\n",
    "ax.tick_params(labelsize=28)\n",
    "fig.savefig('intel_platforms_energy.pdf', bbox_inches='tight')"
   ]
  },
  {
   "cell_type": "code",
   "execution_count": null,
   "metadata": {},
   "outputs": [],
   "source": []
  },
  {
   "cell_type": "code",
   "execution_count": null,
   "metadata": {},
   "outputs": [],
   "source": []
  },
  {
   "cell_type": "code",
   "execution_count": null,
   "metadata": {},
   "outputs": [],
   "source": []
  },
  {
   "cell_type": "code",
   "execution_count": null,
   "metadata": {},
   "outputs": [],
   "source": []
  }
 ],
 "metadata": {
  "kernelspec": {
   "display_name": "Python 2",
   "language": "python",
   "name": "python2"
  },
  "language_info": {
   "codemirror_mode": {
    "name": "ipython",
    "version": 2
   },
   "file_extension": ".py",
   "mimetype": "text/x-python",
   "name": "python",
   "nbconvert_exporter": "python",
   "pygments_lexer": "ipython2",
   "version": "2.7.15+"
  }
 },
 "nbformat": 4,
 "nbformat_minor": 2
}
