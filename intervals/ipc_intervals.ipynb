{
 "cells": [
  {
   "cell_type": "code",
   "execution_count": 32,
   "metadata": {},
   "outputs": [],
   "source": [
    "import pandas as pd"
   ]
  },
  {
   "cell_type": "code",
   "execution_count": 33,
   "metadata": {},
   "outputs": [
    {
     "name": "stderr",
     "output_type": "stream",
     "text": [
      "/usr/local/lib/python2.7/dist-packages/ipykernel_launcher.py:1: FutureWarning: read_table is deprecated, use read_csv instead, passing sep='\\t'.\n",
      "  \"\"\"Entry point for launching an IPython kernel.\n"
     ]
    },
    {
     "data": {
      "text/html": [
       "<div>\n",
       "<style scoped>\n",
       "    .dataframe tbody tr th:only-of-type {\n",
       "        vertical-align: middle;\n",
       "    }\n",
       "\n",
       "    .dataframe tbody tr th {\n",
       "        vertical-align: top;\n",
       "    }\n",
       "\n",
       "    .dataframe thead th {\n",
       "        text-align: right;\n",
       "    }\n",
       "</style>\n",
       "<table border=\"1\" class=\"dataframe\">\n",
       "  <thead>\n",
       "    <tr style=\"text-align: right;\">\n",
       "      <th></th>\n",
       "      <th>Client gRPC</th>\n",
       "      <th>Client RPC</th>\n",
       "      <th>Client Rest</th>\n",
       "      <th>Server gRPC</th>\n",
       "      <th>Server RPC</th>\n",
       "      <th>Server Rest</th>\n",
       "    </tr>\n",
       "  </thead>\n",
       "  <tbody>\n",
       "    <tr>\n",
       "      <th>0</th>\n",
       "      <td>0.0</td>\n",
       "      <td>298.95</td>\n",
       "      <td>114.10</td>\n",
       "      <td>0.00</td>\n",
       "      <td>370.20</td>\n",
       "      <td>198.55</td>\n",
       "    </tr>\n",
       "    <tr>\n",
       "      <th>1</th>\n",
       "      <td>21.2</td>\n",
       "      <td>15.70</td>\n",
       "      <td>16.10</td>\n",
       "      <td>25.85</td>\n",
       "      <td>17.15</td>\n",
       "      <td>17.20</td>\n",
       "    </tr>\n",
       "    <tr>\n",
       "      <th>2</th>\n",
       "      <td>190.0</td>\n",
       "      <td>60.45</td>\n",
       "      <td>66.90</td>\n",
       "      <td>182.15</td>\n",
       "      <td>427.60</td>\n",
       "      <td>76.50</td>\n",
       "    </tr>\n",
       "    <tr>\n",
       "      <th>3</th>\n",
       "      <td>2.0</td>\n",
       "      <td>53.90</td>\n",
       "      <td>51.30</td>\n",
       "      <td>2.30</td>\n",
       "      <td>53.50</td>\n",
       "      <td>51.35</td>\n",
       "    </tr>\n",
       "    <tr>\n",
       "      <th>4</th>\n",
       "      <td>845.3</td>\n",
       "      <td>39.85</td>\n",
       "      <td>405.35</td>\n",
       "      <td>585.35</td>\n",
       "      <td>45.85</td>\n",
       "      <td>589.65</td>\n",
       "    </tr>\n",
       "  </tbody>\n",
       "</table>\n",
       "</div>"
      ],
      "text/plain": [
       "   Client gRPC  Client RPC  Client Rest  Server gRPC  Server RPC  Server Rest\n",
       "0          0.0      298.95       114.10         0.00      370.20       198.55\n",
       "1         21.2       15.70        16.10        25.85       17.15        17.20\n",
       "2        190.0       60.45        66.90       182.15      427.60        76.50\n",
       "3          2.0       53.90        51.30         2.30       53.50        51.35\n",
       "4        845.3       39.85       405.35       585.35       45.85       589.65"
      ]
     },
     "execution_count": 33,
     "metadata": {},
     "output_type": "execute_result"
    }
   ],
   "source": [
    "energy_consumption = pd.read_table(\"arm_energy.txt\", delim_whitespace=True, header=0, na_values=-1)\n",
    "energy_consumption.head()"
   ]
  },
  {
   "cell_type": "code",
   "execution_count": 34,
   "metadata": {},
   "outputs": [
    {
     "data": {
      "text/html": [
       "<div>\n",
       "<style scoped>\n",
       "    .dataframe tbody tr th:only-of-type {\n",
       "        vertical-align: middle;\n",
       "    }\n",
       "\n",
       "    .dataframe tbody tr th {\n",
       "        vertical-align: top;\n",
       "    }\n",
       "\n",
       "    .dataframe thead th {\n",
       "        text-align: right;\n",
       "    }\n",
       "</style>\n",
       "<table border=\"1\" class=\"dataframe\">\n",
       "  <thead>\n",
       "    <tr style=\"text-align: right;\">\n",
       "      <th></th>\n",
       "      <th>Client gRPC</th>\n",
       "      <th>Client RPC</th>\n",
       "      <th>Client Rest</th>\n",
       "      <th>Server gRPC</th>\n",
       "      <th>Server RPC</th>\n",
       "      <th>Server Rest</th>\n",
       "    </tr>\n",
       "  </thead>\n",
       "  <tbody>\n",
       "    <tr>\n",
       "      <th>count</th>\n",
       "      <td>7.000000</td>\n",
       "      <td>7.000000</td>\n",
       "      <td>7.000000</td>\n",
       "      <td>7.000000</td>\n",
       "      <td>7.000000</td>\n",
       "      <td>7.000000</td>\n",
       "    </tr>\n",
       "    <tr>\n",
       "      <th>mean</th>\n",
       "      <td>160.528571</td>\n",
       "      <td>96.285714</td>\n",
       "      <td>291.600000</td>\n",
       "      <td>123.635714</td>\n",
       "      <td>160.992857</td>\n",
       "      <td>456.200000</td>\n",
       "    </tr>\n",
       "    <tr>\n",
       "      <th>std</th>\n",
       "      <td>309.004308</td>\n",
       "      <td>94.864437</td>\n",
       "      <td>427.103839</td>\n",
       "      <td>212.943720</td>\n",
       "      <td>166.563885</td>\n",
       "      <td>755.372075</td>\n",
       "    </tr>\n",
       "    <tr>\n",
       "      <th>min</th>\n",
       "      <td>0.000000</td>\n",
       "      <td>15.700000</td>\n",
       "      <td>16.100000</td>\n",
       "      <td>0.000000</td>\n",
       "      <td>17.150000</td>\n",
       "      <td>17.200000</td>\n",
       "    </tr>\n",
       "    <tr>\n",
       "      <th>25%</th>\n",
       "      <td>11.600000</td>\n",
       "      <td>46.875000</td>\n",
       "      <td>59.100000</td>\n",
       "      <td>14.075000</td>\n",
       "      <td>49.675000</td>\n",
       "      <td>63.925000</td>\n",
       "    </tr>\n",
       "    <tr>\n",
       "      <th>50%</th>\n",
       "      <td>26.400000</td>\n",
       "      <td>60.450000</td>\n",
       "      <td>114.100000</td>\n",
       "      <td>26.300000</td>\n",
       "      <td>98.150000</td>\n",
       "      <td>147.650000</td>\n",
       "    </tr>\n",
       "    <tr>\n",
       "      <th>75%</th>\n",
       "      <td>114.400000</td>\n",
       "      <td>102.575000</td>\n",
       "      <td>289.125000</td>\n",
       "      <td>112.825000</td>\n",
       "      <td>242.350000</td>\n",
       "      <td>394.100000</td>\n",
       "    </tr>\n",
       "    <tr>\n",
       "      <th>max</th>\n",
       "      <td>845.300000</td>\n",
       "      <td>298.950000</td>\n",
       "      <td>1214.550000</td>\n",
       "      <td>585.350000</td>\n",
       "      <td>427.600000</td>\n",
       "      <td>2112.500000</td>\n",
       "    </tr>\n",
       "  </tbody>\n",
       "</table>\n",
       "</div>"
      ],
      "text/plain": [
       "       Client gRPC  Client RPC  Client Rest  Server gRPC  Server RPC  \\\n",
       "count     7.000000    7.000000     7.000000     7.000000    7.000000   \n",
       "mean    160.528571   96.285714   291.600000   123.635714  160.992857   \n",
       "std     309.004308   94.864437   427.103839   212.943720  166.563885   \n",
       "min       0.000000   15.700000    16.100000     0.000000   17.150000   \n",
       "25%      11.600000   46.875000    59.100000    14.075000   49.675000   \n",
       "50%      26.400000   60.450000   114.100000    26.300000   98.150000   \n",
       "75%     114.400000  102.575000   289.125000   112.825000  242.350000   \n",
       "max     845.300000  298.950000  1214.550000   585.350000  427.600000   \n",
       "\n",
       "       Server Rest  \n",
       "count     7.000000  \n",
       "mean    456.200000  \n",
       "std     755.372075  \n",
       "min      17.200000  \n",
       "25%      63.925000  \n",
       "50%     147.650000  \n",
       "75%     394.100000  \n",
       "max    2112.500000  "
      ]
     },
     "execution_count": 34,
     "metadata": {},
     "output_type": "execute_result"
    }
   ],
   "source": [
    "energy_consumption.describe()"
   ]
  },
  {
   "cell_type": "raw",
   "metadata": {},
   "source": []
  },
  {
   "cell_type": "code",
   "execution_count": 35,
   "metadata": {},
   "outputs": [
    {
     "data": {
      "text/html": [
       "<div>\n",
       "<style scoped>\n",
       "    .dataframe tbody tr th:only-of-type {\n",
       "        vertical-align: middle;\n",
       "    }\n",
       "\n",
       "    .dataframe tbody tr th {\n",
       "        vertical-align: top;\n",
       "    }\n",
       "\n",
       "    .dataframe thead th {\n",
       "        text-align: right;\n",
       "    }\n",
       "</style>\n",
       "<table border=\"1\" class=\"dataframe\">\n",
       "  <thead>\n",
       "    <tr style=\"text-align: right;\">\n",
       "      <th></th>\n",
       "      <th>Client gRPC</th>\n",
       "      <th>Client RPC</th>\n",
       "      <th>Client Rest</th>\n",
       "      <th>Server gRPC</th>\n",
       "      <th>Server RPC</th>\n",
       "      <th>Server Rest</th>\n",
       "    </tr>\n",
       "  </thead>\n",
       "  <tbody>\n",
       "    <tr>\n",
       "      <th>0.05</th>\n",
       "      <td>0.60</td>\n",
       "      <td>22.945</td>\n",
       "      <td>26.66</td>\n",
       "      <td>0.69</td>\n",
       "      <td>25.76</td>\n",
       "      <td>27.445</td>\n",
       "    </tr>\n",
       "    <tr>\n",
       "      <th>0.95</th>\n",
       "      <td>648.71</td>\n",
       "      <td>241.980</td>\n",
       "      <td>971.79</td>\n",
       "      <td>464.39</td>\n",
       "      <td>410.38</td>\n",
       "      <td>1655.645</td>\n",
       "    </tr>\n",
       "  </tbody>\n",
       "</table>\n",
       "</div>"
      ],
      "text/plain": [
       "      Client gRPC  Client RPC  Client Rest  Server gRPC  Server RPC  \\\n",
       "0.05         0.60      22.945        26.66         0.69       25.76   \n",
       "0.95       648.71     241.980       971.79       464.39      410.38   \n",
       "\n",
       "      Server Rest  \n",
       "0.05       27.445  \n",
       "0.95     1655.645  "
      ]
     },
     "execution_count": 35,
     "metadata": {},
     "output_type": "execute_result"
    }
   ],
   "source": [
    "energy_consumption.quantile([0.05, 0.95])"
   ]
  },
  {
   "cell_type": "code",
   "execution_count": 36,
   "metadata": {},
   "outputs": [],
   "source": [
    "import numpy as np\n",
    "import scipy as sp\n",
    "import scipy.stats\n",
    "\n",
    "def mean_confidence_interval(data, confidence=0.95):\n",
    "    a = 1.0*np.array(data)\n",
    "    n = len(a)\n",
    "    m, se = np.mean(a), scipy.stats.sem(a)\n",
    "    h = se * sp.stats.t._ppf((1+confidence)/2., n-1)\n",
    "    return m, h, m-h, m+h"
   ]
  },
  {
   "cell_type": "code",
   "execution_count": 37,
   "metadata": {},
   "outputs": [
    {
     "data": {
      "text/plain": [
       "Client gRPC    (160.52857142857144, 285.7813202184373, -125.2...\n",
       "Client RPC     (96.28571428571429, 87.73497124521407, 8.55074...\n",
       "Client Rest    (291.59999999999997, 395.00516907762216, -103....\n",
       "Server gRPC    (123.63571428571429, 196.94009433487483, -73.3...\n",
       "Server RPC     (160.9928571428572, 154.04590091412953, 6.9469...\n",
       "Server Rest    (456.2, 698.6026512758883, -242.40265127588833...\n",
       "dtype: object"
      ]
     },
     "execution_count": 37,
     "metadata": {},
     "output_type": "execute_result"
    }
   ],
   "source": [
    "energy_consumption.apply(lambda x: mean_confidence_interval(x.dropna()), axis=0)"
   ]
  },
  {
   "cell_type": "code",
   "execution_count": 38,
   "metadata": {},
   "outputs": [],
   "source": [
    "import seaborn as sns\n",
    "import matplotlib.pyplot as plt"
   ]
  },
  {
   "cell_type": "code",
   "execution_count": 39,
   "metadata": {},
   "outputs": [
    {
     "data": {
      "text/html": [
       "<div>\n",
       "<style scoped>\n",
       "    .dataframe tbody tr th:only-of-type {\n",
       "        vertical-align: middle;\n",
       "    }\n",
       "\n",
       "    .dataframe tbody tr th {\n",
       "        vertical-align: top;\n",
       "    }\n",
       "\n",
       "    .dataframe thead th {\n",
       "        text-align: right;\n",
       "    }\n",
       "</style>\n",
       "<table border=\"1\" class=\"dataframe\">\n",
       "  <thead>\n",
       "    <tr style=\"text-align: right;\">\n",
       "      <th></th>\n",
       "      <th>Protocols</th>\n",
       "      <th>Energy consumption (in Joules)</th>\n",
       "    </tr>\n",
       "  </thead>\n",
       "  <tbody>\n",
       "    <tr>\n",
       "      <th>0</th>\n",
       "      <td>Client gRPC</td>\n",
       "      <td>0.0</td>\n",
       "    </tr>\n",
       "    <tr>\n",
       "      <th>1</th>\n",
       "      <td>Client gRPC</td>\n",
       "      <td>21.2</td>\n",
       "    </tr>\n",
       "    <tr>\n",
       "      <th>2</th>\n",
       "      <td>Client gRPC</td>\n",
       "      <td>190.0</td>\n",
       "    </tr>\n",
       "    <tr>\n",
       "      <th>3</th>\n",
       "      <td>Client gRPC</td>\n",
       "      <td>2.0</td>\n",
       "    </tr>\n",
       "    <tr>\n",
       "      <th>4</th>\n",
       "      <td>Client gRPC</td>\n",
       "      <td>845.3</td>\n",
       "    </tr>\n",
       "  </tbody>\n",
       "</table>\n",
       "</div>"
      ],
      "text/plain": [
       "     Protocols  Energy consumption (in Joules)\n",
       "0  Client gRPC                             0.0\n",
       "1  Client gRPC                            21.2\n",
       "2  Client gRPC                           190.0\n",
       "3  Client gRPC                             2.0\n",
       "4  Client gRPC                           845.3"
      ]
     },
     "execution_count": 39,
     "metadata": {},
     "output_type": "execute_result"
    }
   ],
   "source": [
    "melted_df = energy_consumption.melt(var_name ='Protocols', value_name ='Energy consumption (in Joules)')\n",
    "melted_df.head()"
   ]
  },
  {
   "cell_type": "code",
   "execution_count": 40,
   "metadata": {},
   "outputs": [
    {
     "data": {
      "text/html": [
       "<div>\n",
       "<style scoped>\n",
       "    .dataframe tbody tr th:only-of-type {\n",
       "        vertical-align: middle;\n",
       "    }\n",
       "\n",
       "    .dataframe tbody tr th {\n",
       "        vertical-align: top;\n",
       "    }\n",
       "\n",
       "    .dataframe thead th {\n",
       "        text-align: right;\n",
       "    }\n",
       "</style>\n",
       "<table border=\"1\" class=\"dataframe\">\n",
       "  <thead>\n",
       "    <tr style=\"text-align: right;\">\n",
       "      <th></th>\n",
       "      <th>Protocols</th>\n",
       "      <th>Energy consumption (in Joules)</th>\n",
       "    </tr>\n",
       "  </thead>\n",
       "  <tbody>\n",
       "    <tr>\n",
       "      <th>0</th>\n",
       "      <td>Client gRPC</td>\n",
       "      <td>0.0</td>\n",
       "    </tr>\n",
       "    <tr>\n",
       "      <th>1</th>\n",
       "      <td>Client gRPC</td>\n",
       "      <td>21.2</td>\n",
       "    </tr>\n",
       "    <tr>\n",
       "      <th>2</th>\n",
       "      <td>Client gRPC</td>\n",
       "      <td>190.0</td>\n",
       "    </tr>\n",
       "    <tr>\n",
       "      <th>3</th>\n",
       "      <td>Client gRPC</td>\n",
       "      <td>2.0</td>\n",
       "    </tr>\n",
       "    <tr>\n",
       "      <th>4</th>\n",
       "      <td>Client gRPC</td>\n",
       "      <td>845.3</td>\n",
       "    </tr>\n",
       "  </tbody>\n",
       "</table>\n",
       "</div>"
      ],
      "text/plain": [
       "     Protocols  Energy consumption (in Joules)\n",
       "0  Client gRPC                             0.0\n",
       "1  Client gRPC                            21.2\n",
       "2  Client gRPC                           190.0\n",
       "3  Client gRPC                             2.0\n",
       "4  Client gRPC                           845.3"
      ]
     },
     "execution_count": 40,
     "metadata": {},
     "output_type": "execute_result"
    }
   ],
   "source": [
    "melted_df.rename({1: 'protocols'}, axis='columns', inplace=True)\n",
    "melted_df.head()"
   ]
  },
  {
   "cell_type": "code",
   "execution_count": 41,
   "metadata": {},
   "outputs": [
    {
     "data": {
      "image/png": "[encoded data removed]",
      "text/plain": [
       "<Figure size 1008x864 with 1 Axes>"
      ]
     },
     "metadata": {},
     "output_type": "display_data"
    }
   ],
   "source": [
    "fig, ax = plt.subplots()\n",
    "\n",
    "sns.set(font_scale=1.5)\n",
    "fig.set_size_inches(14, 12)\n",
    "g = sns.boxplot(x=\"Protocols\", y=\"Energy consumption (in Joules)\", data=melted_df, showfliers=True)\n",
    "ticklabels = g.get_xticklabels()\n",
    "x_lim = g.get_xlim()\n",
    "g.set_xlim(x_lim[0] - 0.5, x_lim[1] + 0.5)\n",
    "_ = g.set_xticklabels(ticklabels, rotation=90)\n",
    "ax.set_xlabel('')\n",
    "fig.savefig('arm_platforms_energy.pdf', bbox_inches='tight')"
   ]
  },
  {
   "cell_type": "code",
   "execution_count": null,
   "metadata": {},
   "outputs": [],
   "source": []
  }
 ],
 "metadata": {
  "kernelspec": {
   "display_name": "Python 2",
   "language": "python",
   "name": "python2"
  },
  "language_info": {
   "codemirror_mode": {
    "name": "ipython",
    "version": 2
   },
   "file_extension": ".py",
   "mimetype": "text/x-python",
   "name": "python",
   "nbconvert_exporter": "python",
   "pygments_lexer": "ipython2",
   "version": "2.7.15rc1"
  }
 },
 "nbformat": 4,
 "nbformat_minor": 2
}
