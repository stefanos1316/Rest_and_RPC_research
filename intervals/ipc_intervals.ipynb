{
 "cells": [
  {
   "cell_type": "code",
   "execution_count": 50,
   "metadata": {},
   "outputs": [],
   "source": [
    "import pandas as pd"
   ]
  },
  {
   "cell_type": "code",
   "execution_count": 51,
   "metadata": {},
   "outputs": [
    {
     "data": {
      "text/html": [
       "<div>\n",
       "<style scoped>\n",
       "    .dataframe tbody tr th:only-of-type {\n",
       "        vertical-align: middle;\n",
       "    }\n",
       "\n",
       "    .dataframe tbody tr th {\n",
       "        vertical-align: top;\n",
       "    }\n",
       "\n",
       "    .dataframe thead th {\n",
       "        text-align: right;\n",
       "    }\n",
       "</style>\n",
       "<table border=\"1\" class=\"dataframe\">\n",
       "  <thead>\n",
       "    <tr style=\"text-align: right;\">\n",
       "      <th></th>\n",
       "      <th>client_gRPC</th>\n",
       "      <th>client_RPC</th>\n",
       "      <th>client_Rest</th>\n",
       "      <th>server_gRPC</th>\n",
       "      <th>server_RPC</th>\n",
       "      <th>server_Rest</th>\n",
       "    </tr>\n",
       "  </thead>\n",
       "  <tbody>\n",
       "    <tr>\n",
       "      <th>0</th>\n",
       "      <td>502.9</td>\n",
       "      <td>1054.1</td>\n",
       "      <td>2281.8</td>\n",
       "      <td>675.3</td>\n",
       "      <td>1013.1</td>\n",
       "      <td>1888.7</td>\n",
       "    </tr>\n",
       "    <tr>\n",
       "      <th>1</th>\n",
       "      <td>434.6</td>\n",
       "      <td>389.5</td>\n",
       "      <td>418.2</td>\n",
       "      <td>412.1</td>\n",
       "      <td>381.3</td>\n",
       "      <td>405.1</td>\n",
       "    </tr>\n",
       "    <tr>\n",
       "      <th>2</th>\n",
       "      <td>821.3</td>\n",
       "      <td>1471.9</td>\n",
       "      <td>1654.4</td>\n",
       "      <td>846.1</td>\n",
       "      <td>1391.2</td>\n",
       "      <td>1659.1</td>\n",
       "    </tr>\n",
       "    <tr>\n",
       "      <th>3</th>\n",
       "      <td>110.8</td>\n",
       "      <td>220.4</td>\n",
       "      <td>352.5</td>\n",
       "      <td>95.1</td>\n",
       "      <td>181.7</td>\n",
       "      <td>321.3</td>\n",
       "    </tr>\n",
       "    <tr>\n",
       "      <th>4</th>\n",
       "      <td>7295.3</td>\n",
       "      <td>2030.4</td>\n",
       "      <td>22261.4</td>\n",
       "      <td>12900.2</td>\n",
       "      <td>2544.0</td>\n",
       "      <td>36048.6</td>\n",
       "    </tr>\n",
       "  </tbody>\n",
       "</table>\n",
       "</div>"
      ],
      "text/plain": [
       "   client_gRPC  client_RPC  client_Rest  server_gRPC  server_RPC  server_Rest\n",
       "0        502.9      1054.1       2281.8        675.3      1013.1       1888.7\n",
       "1        434.6       389.5        418.2        412.1       381.3        405.1\n",
       "2        821.3      1471.9       1654.4        846.1      1391.2       1659.1\n",
       "3        110.8       220.4        352.5         95.1       181.7        321.3\n",
       "4       7295.3      2030.4      22261.4      12900.2      2544.0      36048.6"
      ]
     },
     "execution_count": 51,
     "metadata": {},
     "output_type": "execute_result"
    }
   ],
   "source": [
    "energy_consumption = pd.read_table(\"platform_energy_results.txt\", delim_whitespace=True, header=0, na_values=-1)\n",
    "energy_consumption.head()"
   ]
  },
  {
   "cell_type": "code",
   "execution_count": 52,
   "metadata": {},
   "outputs": [
    {
     "data": {
      "text/html": [
       "<div>\n",
       "<style scoped>\n",
       "    .dataframe tbody tr th:only-of-type {\n",
       "        vertical-align: middle;\n",
       "    }\n",
       "\n",
       "    .dataframe tbody tr th {\n",
       "        vertical-align: top;\n",
       "    }\n",
       "\n",
       "    .dataframe thead th {\n",
       "        text-align: right;\n",
       "    }\n",
       "</style>\n",
       "<table border=\"1\" class=\"dataframe\">\n",
       "  <thead>\n",
       "    <tr style=\"text-align: right;\">\n",
       "      <th></th>\n",
       "      <th>client_gRPC</th>\n",
       "      <th>client_RPC</th>\n",
       "      <th>client_Rest</th>\n",
       "      <th>server_gRPC</th>\n",
       "      <th>server_RPC</th>\n",
       "      <th>server_Rest</th>\n",
       "    </tr>\n",
       "  </thead>\n",
       "  <tbody>\n",
       "    <tr>\n",
       "      <th>count</th>\n",
       "      <td>7.000000</td>\n",
       "      <td>7.000000</td>\n",
       "      <td>7.000000</td>\n",
       "      <td>7.000000</td>\n",
       "      <td>7.000000</td>\n",
       "      <td>7.000000</td>\n",
       "    </tr>\n",
       "    <tr>\n",
       "      <th>mean</th>\n",
       "      <td>1576.828571</td>\n",
       "      <td>1222.114286</td>\n",
       "      <td>5482.871429</td>\n",
       "      <td>2358.757143</td>\n",
       "      <td>1264.314286</td>\n",
       "      <td>7848.328571</td>\n",
       "    </tr>\n",
       "    <tr>\n",
       "      <th>std</th>\n",
       "      <td>2540.772161</td>\n",
       "      <td>700.936867</td>\n",
       "      <td>7969.202997</td>\n",
       "      <td>4656.163730</td>\n",
       "      <td>823.648192</td>\n",
       "      <td>13153.201375</td>\n",
       "    </tr>\n",
       "    <tr>\n",
       "      <th>min</th>\n",
       "      <td>110.800000</td>\n",
       "      <td>220.400000</td>\n",
       "      <td>352.500000</td>\n",
       "      <td>95.100000</td>\n",
       "      <td>181.700000</td>\n",
       "      <td>321.300000</td>\n",
       "    </tr>\n",
       "    <tr>\n",
       "      <th>25%</th>\n",
       "      <td>468.750000</td>\n",
       "      <td>721.800000</td>\n",
       "      <td>1036.300000</td>\n",
       "      <td>543.700000</td>\n",
       "      <td>697.200000</td>\n",
       "      <td>1032.100000</td>\n",
       "    </tr>\n",
       "    <tr>\n",
       "      <th>50%</th>\n",
       "      <td>806.100000</td>\n",
       "      <td>1471.900000</td>\n",
       "      <td>2281.800000</td>\n",
       "      <td>731.200000</td>\n",
       "      <td>1391.200000</td>\n",
       "      <td>1888.700000</td>\n",
       "    </tr>\n",
       "    <tr>\n",
       "      <th>75%</th>\n",
       "      <td>944.050000</td>\n",
       "      <td>1694.250000</td>\n",
       "      <td>5705.900000</td>\n",
       "      <td>848.700000</td>\n",
       "      <td>1669.450000</td>\n",
       "      <td>7307.750000</td>\n",
       "    </tr>\n",
       "    <tr>\n",
       "      <th>max</th>\n",
       "      <td>7295.300000</td>\n",
       "      <td>2030.400000</td>\n",
       "      <td>22261.400000</td>\n",
       "      <td>12900.200000</td>\n",
       "      <td>2544.000000</td>\n",
       "      <td>36048.600000</td>\n",
       "    </tr>\n",
       "  </tbody>\n",
       "</table>\n",
       "</div>"
      ],
      "text/plain": [
       "       client_gRPC   client_RPC   client_Rest   server_gRPC   server_RPC  \\\n",
       "count     7.000000     7.000000      7.000000      7.000000     7.000000   \n",
       "mean   1576.828571  1222.114286   5482.871429   2358.757143  1264.314286   \n",
       "std    2540.772161   700.936867   7969.202997   4656.163730   823.648192   \n",
       "min     110.800000   220.400000    352.500000     95.100000   181.700000   \n",
       "25%     468.750000   721.800000   1036.300000    543.700000   697.200000   \n",
       "50%     806.100000  1471.900000   2281.800000    731.200000  1391.200000   \n",
       "75%     944.050000  1694.250000   5705.900000    848.700000  1669.450000   \n",
       "max    7295.300000  2030.400000  22261.400000  12900.200000  2544.000000   \n",
       "\n",
       "        server_Rest  \n",
       "count      7.000000  \n",
       "mean    7848.328571  \n",
       "std    13153.201375  \n",
       "min      321.300000  \n",
       "25%     1032.100000  \n",
       "50%     1888.700000  \n",
       "75%     7307.750000  \n",
       "max    36048.600000  "
      ]
     },
     "execution_count": 52,
     "metadata": {},
     "output_type": "execute_result"
    }
   ],
   "source": [
    "energy_consumption.describe()"
   ]
  },
  {
   "cell_type": "raw",
   "metadata": {},
   "source": []
  },
  {
   "cell_type": "code",
   "execution_count": 53,
   "metadata": {},
   "outputs": [
    {
     "data": {
      "text/html": [
       "<div>\n",
       "<style scoped>\n",
       "    .dataframe tbody tr th:only-of-type {\n",
       "        vertical-align: middle;\n",
       "    }\n",
       "\n",
       "    .dataframe tbody tr th {\n",
       "        vertical-align: top;\n",
       "    }\n",
       "\n",
       "    .dataframe thead th {\n",
       "        text-align: right;\n",
       "    }\n",
       "</style>\n",
       "<table border=\"1\" class=\"dataframe\">\n",
       "  <thead>\n",
       "    <tr style=\"text-align: right;\">\n",
       "      <th></th>\n",
       "      <th>client_gRPC</th>\n",
       "      <th>client_RPC</th>\n",
       "      <th>client_Rest</th>\n",
       "      <th>server_gRPC</th>\n",
       "      <th>server_RPC</th>\n",
       "      <th>server_Rest</th>\n",
       "    </tr>\n",
       "  </thead>\n",
       "  <tbody>\n",
       "    <tr>\n",
       "      <th>0.05</th>\n",
       "      <td>207.94</td>\n",
       "      <td>271.13</td>\n",
       "      <td>372.21</td>\n",
       "      <td>190.20</td>\n",
       "      <td>241.58</td>\n",
       "      <td>346.44</td>\n",
       "    </tr>\n",
       "    <tr>\n",
       "      <th>0.95</th>\n",
       "      <td>5426.75</td>\n",
       "      <td>1982.13</td>\n",
       "      <td>18302.21</td>\n",
       "      <td>9285.53</td>\n",
       "      <td>2339.16</td>\n",
       "      <td>29018.31</td>\n",
       "    </tr>\n",
       "  </tbody>\n",
       "</table>\n",
       "</div>"
      ],
      "text/plain": [
       "      client_gRPC  client_RPC  client_Rest  server_gRPC  server_RPC  \\\n",
       "0.05       207.94      271.13       372.21       190.20      241.58   \n",
       "0.95      5426.75     1982.13     18302.21      9285.53     2339.16   \n",
       "\n",
       "      server_Rest  \n",
       "0.05       346.44  \n",
       "0.95     29018.31  "
      ]
     },
     "execution_count": 53,
     "metadata": {},
     "output_type": "execute_result"
    }
   ],
   "source": [
    "energy_consumption.quantile([0.05, 0.95])"
   ]
  },
  {
   "cell_type": "code",
   "execution_count": 54,
   "metadata": {},
   "outputs": [],
   "source": [
    "import numpy as np\n",
    "import scipy as sp\n",
    "import scipy.stats\n",
    "\n",
    "def mean_confidence_interval(data, confidence=0.95):\n",
    "    a = 1.0*np.array(data)\n",
    "    n = len(a)\n",
    "    m, se = np.mean(a), scipy.stats.sem(a)\n",
    "    h = se * sp.stats.t._ppf((1+confidence)/2., n-1)\n",
    "    return m, h, m-h, m+h"
   ]
  },
  {
   "cell_type": "code",
   "execution_count": 55,
   "metadata": {},
   "outputs": [
    {
     "data": {
      "text/plain": [
       "client_gRPC    (1576.8285714285714, 2349.822327970614, -772.9...\n",
       "client_RPC     (1222.1142857142856, 648.2584806006938, 573.85...\n",
       "client_Rest    (5482.8714285714295, 7370.283502073102, -1887....\n",
       "server_gRPC    (2358.7571428571428, 4306.233224918046, -1947....\n",
       "server_RPC     (1264.314285714286, 761.7475280724065, 502.566...\n",
       "server_Rest    (7848.328571428569, 12164.682357130021, -4316....\n",
       "dtype: object"
      ]
     },
     "execution_count": 55,
     "metadata": {},
     "output_type": "execute_result"
    }
   ],
   "source": [
    "energy_consumption.apply(lambda x: mean_confidence_interval(x.dropna()), axis=0)"
   ]
  },
  {
   "cell_type": "code",
   "execution_count": 56,
   "metadata": {},
   "outputs": [],
   "source": [
    "import seaborn as sns\n",
    "import matplotlib.pyplot as plt"
   ]
  },
  {
   "cell_type": "code",
   "execution_count": 57,
   "metadata": {},
   "outputs": [
    {
     "data": {
      "text/html": [
       "<div>\n",
       "<style scoped>\n",
       "    .dataframe tbody tr th:only-of-type {\n",
       "        vertical-align: middle;\n",
       "    }\n",
       "\n",
       "    .dataframe tbody tr th {\n",
       "        vertical-align: top;\n",
       "    }\n",
       "\n",
       "    .dataframe thead th {\n",
       "        text-align: right;\n",
       "    }\n",
       "</style>\n",
       "<table border=\"1\" class=\"dataframe\">\n",
       "  <thead>\n",
       "    <tr style=\"text-align: right;\">\n",
       "      <th></th>\n",
       "      <th>Protocols</th>\n",
       "      <th>Energy consumption (in Joules)</th>\n",
       "    </tr>\n",
       "  </thead>\n",
       "  <tbody>\n",
       "    <tr>\n",
       "      <th>0</th>\n",
       "      <td>client_gRPC</td>\n",
       "      <td>502.9</td>\n",
       "    </tr>\n",
       "    <tr>\n",
       "      <th>1</th>\n",
       "      <td>client_gRPC</td>\n",
       "      <td>434.6</td>\n",
       "    </tr>\n",
       "    <tr>\n",
       "      <th>2</th>\n",
       "      <td>client_gRPC</td>\n",
       "      <td>821.3</td>\n",
       "    </tr>\n",
       "    <tr>\n",
       "      <th>3</th>\n",
       "      <td>client_gRPC</td>\n",
       "      <td>110.8</td>\n",
       "    </tr>\n",
       "    <tr>\n",
       "      <th>4</th>\n",
       "      <td>client_gRPC</td>\n",
       "      <td>7295.3</td>\n",
       "    </tr>\n",
       "  </tbody>\n",
       "</table>\n",
       "</div>"
      ],
      "text/plain": [
       "     Protocols  Energy consumption (in Joules)\n",
       "0  client_gRPC                           502.9\n",
       "1  client_gRPC                           434.6\n",
       "2  client_gRPC                           821.3\n",
       "3  client_gRPC                           110.8\n",
       "4  client_gRPC                          7295.3"
      ]
     },
     "execution_count": 57,
     "metadata": {},
     "output_type": "execute_result"
    }
   ],
   "source": [
    "melted_df = energy_consumption.melt(var_name ='Protocols', value_name ='Energy consumption (in Joules)')\n",
    "melted_df.head()"
   ]
  },
  {
   "cell_type": "code",
   "execution_count": 58,
   "metadata": {},
   "outputs": [
    {
     "data": {
      "text/html": [
       "<div>\n",
       "<style scoped>\n",
       "    .dataframe tbody tr th:only-of-type {\n",
       "        vertical-align: middle;\n",
       "    }\n",
       "\n",
       "    .dataframe tbody tr th {\n",
       "        vertical-align: top;\n",
       "    }\n",
       "\n",
       "    .dataframe thead th {\n",
       "        text-align: right;\n",
       "    }\n",
       "</style>\n",
       "<table border=\"1\" class=\"dataframe\">\n",
       "  <thead>\n",
       "    <tr style=\"text-align: right;\">\n",
       "      <th></th>\n",
       "      <th>Protocols</th>\n",
       "      <th>Energy consumption (in Joules)</th>\n",
       "    </tr>\n",
       "  </thead>\n",
       "  <tbody>\n",
       "    <tr>\n",
       "      <th>0</th>\n",
       "      <td>client_gRPC</td>\n",
       "      <td>502.9</td>\n",
       "    </tr>\n",
       "    <tr>\n",
       "      <th>1</th>\n",
       "      <td>client_gRPC</td>\n",
       "      <td>434.6</td>\n",
       "    </tr>\n",
       "    <tr>\n",
       "      <th>2</th>\n",
       "      <td>client_gRPC</td>\n",
       "      <td>821.3</td>\n",
       "    </tr>\n",
       "    <tr>\n",
       "      <th>3</th>\n",
       "      <td>client_gRPC</td>\n",
       "      <td>110.8</td>\n",
       "    </tr>\n",
       "    <tr>\n",
       "      <th>4</th>\n",
       "      <td>client_gRPC</td>\n",
       "      <td>7295.3</td>\n",
       "    </tr>\n",
       "  </tbody>\n",
       "</table>\n",
       "</div>"
      ],
      "text/plain": [
       "     Protocols  Energy consumption (in Joules)\n",
       "0  client_gRPC                           502.9\n",
       "1  client_gRPC                           434.6\n",
       "2  client_gRPC                           821.3\n",
       "3  client_gRPC                           110.8\n",
       "4  client_gRPC                          7295.3"
      ]
     },
     "execution_count": 58,
     "metadata": {},
     "output_type": "execute_result"
    }
   ],
   "source": [
    "melted_df.rename({1: 'protocols'}, axis='columns', inplace=True)\n",
    "melted_df.head()"
   ]
  },
  {
   "cell_type": "code",
   "execution_count": 60,
   "metadata": {},
   "outputs": [
    {
     "data": {
      "image/png": "[encoded data removed]",
      "text/plain": [
       "<Figure size 1008x864 with 1 Axes>"
      ]
     },
     "metadata": {},
     "output_type": "display_data"
    }
   ],
   "source": [
    "fig, ax = plt.subplots()\n",
    "\n",
    "sns.set(font_scale=1.5)\n",
    "fig.set_size_inches(14, 12)\n",
    "g = sns.boxplot(x=\"Protocols\", y=\"Energy consumption (in Joules)\", data=melted_df, showfliers=True)\n",
    "ticklabels = g.get_xticklabels()\n",
    "x_lim = g.get_xlim()\n",
    "g.set_xlim(x_lim[0] - 0.5, x_lim[1] + 0.5)\n",
    "_ = g.set_xticklabels(ticklabels, rotation=90)\n",
    "ax.set_xlabel('')\n",
    "fig.savefig('platform_energy_with_outliers.pdf', bbox_inches='tight')"
   ]
  },
  {
   "cell_type": "code",
   "execution_count": null,
   "metadata": {},
   "outputs": [],
   "source": []
  }
 ],
 "metadata": {
  "kernelspec": {
   "display_name": "Python 3",
   "language": "python",
   "name": "python3"
  },
  "language_info": {
   "codemirror_mode": {
    "name": "ipython",
    "version": 3
   },
   "file_extension": ".py",
   "mimetype": "text/x-python",
   "name": "python",
   "nbconvert_exporter": "python",
   "pygments_lexer": "ipython3",
   "version": "3.7.2"
  }
 },
 "nbformat": 4,
 "nbformat_minor": 2
}
