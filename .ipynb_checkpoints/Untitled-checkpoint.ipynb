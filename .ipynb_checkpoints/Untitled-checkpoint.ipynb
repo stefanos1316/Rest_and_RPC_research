{
 "cells": [
  {
   "cell_type": "code",
   "execution_count": 58,
   "metadata": {},
   "outputs": [],
   "source": [
    "# Bokeh Libraries\n",
    "from bokeh.io import output_file\n",
    "from bokeh.plotting import figure, show\n",
    "\n",
    "# My x-y coordinate data\n",
    "x = [1, 1, 1]\n",
    "y = [1, 4, 8]\n",
    "\n",
    "# Output the visualization directly in the notebook\n",
    "output_file('first_glyphs.html', title='First Glyphs')\n",
    "\n",
    "# Create a figure with no toolbar and axis ranges of [0,3]\n",
    "fig = figure(title='My Coordinates',\n",
    "             plot_height=300, plot_width=300,\n",
    "             x_range=(0, 3), y_range=(0, 10),\n",
    "             toolbar_location=None)\n",
    "\n",
    "# Draw the coordinates as circles\n",
    "fig.circle(x=x, y=y,\n",
    "           color='green', size=10, alpha=0.5)\n",
    "\n",
    "# Show plot\n",
    "show(fig)"
   ]
  },
  {
   "cell_type": "code",
   "execution_count": null,
   "metadata": {},
   "outputs": [],
   "source": []
  },
  {
   "cell_type": "code",
   "execution_count": null,
   "metadata": {},
   "outputs": [],
   "source": []
  },
  {
   "cell_type": "code",
   "execution_count": null,
   "metadata": {},
   "outputs": [],
   "source": []
  }
 ],
 "metadata": {
  "kernelspec": {
   "display_name": "Python 3",
   "language": "python",
   "name": "python3"
  },
  "language_info": {
   "codemirror_mode": {
    "name": "ipython",
    "version": 3
   },
   "file_extension": ".py",
   "mimetype": "text/x-python",
   "name": "python",
   "nbconvert_exporter": "python",
   "pygments_lexer": "ipython3",
   "version": "3.6.8"
  }
 },
 "nbformat": 4,
 "nbformat_minor": 2
}
