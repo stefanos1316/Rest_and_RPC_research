{
 "cells": [
  {
   "cell_type": "markdown",
   "metadata": {},
   "source": [
    "import matplotlib\n",
    "import numpy as np\n",
    "import matplotlib.pyplot as plt\n",
    "from pylab import rcParams\n",
    "import matplotlib.ticker as ticker\n",
    "\n",
    "N = 21\n",
    "ind = np.arange(N)  # the x locations for the groups\n",
    "width = 0.17       # the width of the bars\n",
    "\n",
    "#fig = plt.figure()\n",
    "fig = plt.figure(figsize=(30,12))\n",
    "ax = fig.add_subplot(111)\n",
    "\n",
    "\n",
    "\n",
    "             606.7, 319.5, 637, 139.4, 458.2, 1899.2]\n",
    "rects1 = ax.bar(ind, stock_vals, width, color='r')\n",
    "meltdown_vals = [105.2, 364, 789.4, 105.8, 70.4, 79, 364, 2040.5, 617.8, 27, 32.3, 31.4, 1291.3, 1214.6, 2674.5,\n",
    "                588.7, 347, 370, 61.6, 513.5, 2191.2]\n",
    "rects2 = ax.bar(ind+width, meltdown_vals, width, color='g')\n",
    "spectre_vals = [55, 27, 44, 28, 16, 19, 35, 86, 42, 3, 10, 10, 479, 67, 628, 16, 73, 78, 55, 43, 304]\n",
    "rects3 = ax.bar(ind+width*2, spectre_vals, width, color='b')\n",
    "\n",
    "\n",
    "#plt.xticks(xtick_loc, xticks, rotation=90, ha=\"left\")\n",
    "plt.xticks(fontsize=23, rotation=270)\n",
    "plt.yticks(fontsize=23)\n",
    "ax.set_ylabel('Energy (in Joules) and Run-Time (in Seconds)', fontsize=23)\n",
    "ax.set_xticks(ind+width)\n",
    "ax.set_xticklabels( (\"C# gRPC\", \"C# RPC\", \"C# Rest\", \"Go gRPC\", \"Go RPC\", \"Go Rest\", \"Java gRPC\", \"Java RPC\",\n",
    "                    \"Java Rest\", \"JS gRPC\", \"JS RPC\", \"JS Rest\", \"PHP gRPC\", \"PHP RPC\", \"PHP Rest\", \"Python gRPC\",\n",
    "                    \"Python RPC\", \"Python Rest\", \"Ruby gRPC\", \"Ruby RPC\", \"Ruby Rest\") )\n",
    "ax.legend( ('Client Energy', 'Server Energy', 'Nodes Run-Time'), fontsize=18 )\n",
    "\n",
    "def autolabel(rects):\n",
    "    for rect in rects:\n",
    "        h = rect.get_height()\n",
    "       \n",
    "\n",
    "autolabel(rects1)\n",
    "autolabel(rects2)\n",
    "autolabel(rects3)\n",
    "\n",
    "#plt.show()\n",
    "plt.title('Energy-Delay Investigation of Remote Inter-Process Communication Technologies', fontsize=23)\n",
    "plt.savefig(\"energy_all_ondemand.pdf\", bbox_inches='tight')"
   ]
  },
  {
   "cell_type": "code",
   "execution_count": 2,
   "metadata": {},
   "outputs": [
    {
     "ename": "SyntaxError",
     "evalue": "invalid syntax (<ipython-input-2-cb509bee391e>, line 24)",
     "output_type": "error",
     "traceback": [
      "\u001b[0;36m  File \u001b[0;32m\"<ipython-input-2-cb509bee391e>\"\u001b[0;36m, line \u001b[0;32m24\u001b[0m\n\u001b[0;31m    plt.xticks(fontsize=23, rotation=270) plt.yticks(fontsize=23)\u001b[0m\n\u001b[0m                                            ^\u001b[0m\n\u001b[0;31mSyntaxError\u001b[0m\u001b[0;31m:\u001b[0m invalid syntax\n"
     ]
    }
   ],
   "source": [
    "import numpy as np\n",
    "import matplotlib.pyplot as plt\n",
    "\n",
    "N = 21\n",
    "ind = np.arange(N)  # the x locations for the groups\n",
    "width = 0.17       # the width of the bars\n",
    "\n",
    "#fig = plt.figure()\n",
    "fig = plt.figure(figsize=(30,12))\n",
    "ax = fig.add_subplot(111)\n",
    "\n",
    "#fig = plt.figure() fig = plt.figure(figsize=(30,12)) ax = fig.add_subplot(111)\n",
    "\n",
    "stock_vals = [ 65.6, 399.9, 1206.6, 99, 84.8, 94.1, 451.5, 2291.5, 687, 28.2, 36.2, 88.1, 11543.9, 930.5, 7003,\n",
    "              606.7, 319.5, 637, 139.4, 458.2, 1899.2]\n",
    "rects1 = ax.bar(ind, stock_vals, width, color='r')\n",
    "meltdown_vals = [105.2, 364, 789.4, 105.8, 70.4, 79, 364, 2040.5, 617.8, 27, 32.3, 31.4, 1291.3, 1214.6, 2674.5,\n",
    "                 588.7, 347, 370, 61.6, 513.5, 2191.2]\n",
    "rects2 = ax.bar(ind+width, meltdown_vals, width, color='g')\n",
    "spectre_vals = [55, 27, 44, 28, 16, 19, 35, 86, 42, 3, 10, 10, 479, 67, 628, 16, 73, 78, 55, 43, 304]\n",
    "rects3 = ax.bar(ind+width*2, spectre_vals, width, color='b')\n",
    "\n",
    "#plt.xticks(xtick_loc, xticks, rotation=90, ha=\"left\")\n",
    "plt.xticks(fontsize=23, rotation=270) plt.yticks(fontsize=23)\n",
    "ax.set_ylabel('Energy (in Joules) and Run-Time (in Seconds)', fontsize=23)\n",
    "ax.set_xticks(ind+width)\n",
    "ax.set_xticklabels( (\"C# gRPC\", \"C# RPC\", \"C# Rest\", \"Go gRPC\", \"Go RPC\", \"Go Rest\", \"Java gRPC\", \"Java RPC\", \"Java Rest\", \"JS gRPC\", \"JS RPC\", \"JS Rest\", \"PHP gRPC\", \"PHP RPC\", \"PHP Rest\", \"Python gRPC\", \"Python RPC\", \"Python Rest\", \"Ruby gRPC\", \"Ruby RPC\", \"Ruby Rest\") )\n",
    "ax.legend( ('Client Energy', 'Server Energy', 'Nodes Run-Time'), fontsize=18 )\n",
    "\n",
    "def autolabel(rects):\n",
    "    for rect in rects: \n",
    "        h = rect.get_height()\n",
    "\n",
    "autolabel(rects1)\n",
    "autolabel(rects2)\n",
    "autolabel(rects3)\n",
    "\n",
    "#plt.show()\n",
    "plt.title('Energy-Delay Investigation of Remote Inter-Process Communication Technologies', fontsize=23)\n",
    "plt.savefig(\"intel_energy_performance_ comparison\", bbox_inches='tight')"
   ]
  },
  {
   "cell_type": "code",
   "execution_count": null,
   "metadata": {},
   "outputs": [],
   "source": []
  },
  {
   "cell_type": "code",
   "execution_count": null,
   "metadata": {},
   "outputs": [],
   "source": []
  }
 ],
 "metadata": {
  "kernelspec": {
   "display_name": "Python 2",
   "language": "python",
   "name": "python2"
  },
  "language_info": {
   "codemirror_mode": {
    "name": "ipython",
    "version": 2
   },
   "file_extension": ".py",
   "mimetype": "text/x-python",
   "name": "python",
   "nbconvert_exporter": "python",
   "pygments_lexer": "ipython2",
   "version": "2.7.15+"
  }
 },
 "nbformat": 4,
 "nbformat_minor": 2
}
